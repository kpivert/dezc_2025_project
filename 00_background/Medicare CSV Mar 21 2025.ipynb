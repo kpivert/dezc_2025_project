{
 "cells": [
  {
   "cell_type": "code",
   "execution_count": 1,
   "metadata": {},
   "outputs": [],
   "source": [
    "import requests"
   ]
  },
  {
   "cell_type": "code",
   "execution_count": 2,
   "metadata": {},
   "outputs": [],
   "source": [
    "url = \"https://data.cms.gov/data.json\"\n",
    "title= \"Medicare Physician & Other Practitioners - by Provider\"\n",
    "csv_distros = []"
   ]
  },
  {
   "cell_type": "code",
   "execution_count": 4,
   "metadata": {},
   "outputs": [
    {
     "name": "stdout",
     "output_type": "stream",
     "text": [
      "The latest CSV download link for Medicare Physician & Other Practitioners - by Provider is https://data.cms.gov/sites/default/files/2024-06/5aed74f7-d04e-48b4-93b3-d396a2e59c87/MUP_PHY_R24_P07_V10_D22_Prov.csv\n"
     ]
    }
   ],
   "source": [
    "response = requests.request(\"GET\", url)\n",
    "if response.ok:\n",
    "  response = response.json()\n",
    "  dataset = response['dataset']\n",
    "  for set in dataset:\n",
    "    if title == set['title']:\n",
    "      for distro in set['distribution']:\n",
    "        if 'mediaType' in distro.keys():\n",
    "          if distro['mediaType'] == \"text/csv\":\n",
    "            csv_distros.append(distro)\n",
    "      latest = csv_distros[0]\n",
    "      latest_url = latest['downloadURL']\n",
    "      print(f\"The latest CSV download link for {title} is {latest_url}\")      "
   ]
  },
  {
   "cell_type": "markdown",
   "metadata": {},
   "source": [
    "The latest CSV download link for Medicare Physician & Other Practitioners - by Provider is https://data.cms.gov/sites/default/files/2024-06/5aed74f7-d04e-48b4-93b3-d396a2e59c87/MUP_PHY_R24_P07_V10_D22_Prov.csv"
   ]
  }
 ],
 "metadata": {
  "kernelspec": {
   "display_name": "base",
   "language": "python",
   "name": "python3"
  },
  "language_info": {
   "codemirror_mode": {
    "name": "ipython",
    "version": 3
   },
   "file_extension": ".py",
   "mimetype": "text/x-python",
   "name": "python",
   "nbconvert_exporter": "python",
   "pygments_lexer": "ipython3",
   "version": "3.12.7"
  }
 },
 "nbformat": 4,
 "nbformat_minor": 2
}
