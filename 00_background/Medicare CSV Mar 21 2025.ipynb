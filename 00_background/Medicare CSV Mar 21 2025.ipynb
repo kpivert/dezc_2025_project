{
 "cells": [
  {
   "cell_type": "code",
   "execution_count": 1,
   "metadata": {},
   "outputs": [],
   "source": [
    "import requests"
   ]
  },
  {
   "cell_type": "code",
   "execution_count": 2,
   "metadata": {},
   "outputs": [],
   "source": [
    "url = \"https://data.cms.gov/data.json\"\n",
    "title= \"Medicare Physician & Other Practitioners - by Provider\"\n",
    "csv_distros = []"
   ]
  },
  {
   "cell_type": "code",
   "execution_count": 3,
   "metadata": {},
   "outputs": [
    {
     "name": "stdout",
     "output_type": "stream",
     "text": [
      "The latest CSV download link for Medicare Physician & Other Practitioners - by Provider is https://data.cms.gov/sites/default/files/2024-06/5aed74f7-d04e-48b4-93b3-d396a2e59c87/MUP_PHY_R24_P07_V10_D22_Prov.csv\n"
     ]
    }
   ],
   "source": [
    "response = requests.request(\"GET\", url)\n",
    "if response.ok:\n",
    "  response = response.json()\n",
    "  dataset = response['dataset']\n",
    "  for set in dataset:\n",
    "    if title == set['title']:\n",
    "      for distro in set['distribution']:\n",
    "        if 'mediaType' in distro.keys():\n",
    "          if distro['mediaType'] == \"text/csv\":\n",
    "            csv_distros.append(distro)\n",
    "      latest = csv_distros[0]\n",
    "      latest_url = latest['downloadURL']\n",
    "      print(f\"The latest CSV download link for {title} is {latest_url}\")"
   ]
  },
  {
   "cell_type": "markdown",
   "metadata": {},
   "source": [
    "The latest CSV download link for Medicare Physician & Other Practitioners - by Provider is https://data.cms.gov/sites/default/files/2024-06/5aed74f7-d04e-48b4-93b3-d396a2e59c87/MUP_PHY_R24_P07_V10_D22_Prov.csv"
   ]
  },
  {
   "cell_type": "markdown",
   "metadata": {},
   "source": [
    "Take Two.... Attempt to get 2021 data by using the next index"
   ]
  },
  {
   "cell_type": "code",
   "execution_count": 4,
   "metadata": {},
   "outputs": [
    {
     "name": "stdout",
     "output_type": "stream",
     "text": [
      "The next-latest CSV download link for Medicare Physician & Other Practitioners - by Provider is https://data.cms.gov/sites/default/files/2024-06/bc3a06d3-fdae-4cc0-b3ae-9738f3f0f8dc/MUP_PHY_R24_P07_V10_D21_Prov.csv\n"
     ]
    }
   ],
   "source": [
    "response = requests.request(\"GET\", url)\n",
    "if response.ok:\n",
    "  response = response.json()\n",
    "  dataset = response['dataset']\n",
    "  for set in dataset:\n",
    "    if title == set['title']:\n",
    "      for distro in set['distribution']:\n",
    "        if 'mediaType' in distro.keys():\n",
    "          if distro['mediaType'] == \"text/csv\":\n",
    "            csv_distros.append(distro)\n",
    "      next_latest = csv_distros[1]\n",
    "      next_latest_url = next_latest['downloadURL']\n",
    "      print(f\"The next-latest CSV download link for {title} is {next_latest_url}\")"
   ]
  },
  {
   "cell_type": "code",
   "execution_count": null,
   "metadata": {},
   "outputs": [],
   "source": [
    "# response = requests.request(\"GET\", url = url)"
   ]
  },
  {
   "cell_type": "code",
   "execution_count": null,
   "metadata": {},
   "outputs": [],
   "source": [
    "# response = response.json()"
   ]
  },
  {
   "cell_type": "code",
   "execution_count": null,
   "metadata": {},
   "outputs": [],
   "source": [
    "# response['dataset']"
   ]
  },
  {
   "cell_type": "code",
   "execution_count": null,
   "metadata": {},
   "outputs": [],
   "source": [
    "# dataset = response['dataset']\n",
    "# for set in dataset:\n",
    "#   if title == set['title']:\n",
    "#     for distro in set['distribution']:\n",
    "#       if 'mediaType' in distro.keys():\n",
    "#         if distro['mediaType'] == \"text/csv\":\n",
    "#           csv_distros.append(distro)"
   ]
  },
  {
   "cell_type": "code",
   "execution_count": 5,
   "metadata": {},
   "outputs": [
    {
     "data": {
      "text/plain": [
       "list"
      ]
     },
     "execution_count": 5,
     "metadata": {},
     "output_type": "execute_result"
    }
   ],
   "source": [
    "type(csv_distros)"
   ]
  },
  {
   "cell_type": "code",
   "execution_count": 6,
   "metadata": {},
   "outputs": [
    {
     "data": {
      "text/plain": [
       "{'@type': 'dcat:Distribution',\n",
       " 'downloadURL': 'https://data.cms.gov/sites/default/files/2024-06/bc3a06d3-fdae-4cc0-b3ae-9738f3f0f8dc/MUP_PHY_R24_P07_V10_D21_Prov.csv',\n",
       " 'mediaType': 'text/csv',\n",
       " 'resourcesAPI': 'https://data.cms.gov/data-api/v1/dataset-resources/1a3a5f39-09ac-48e2-b9bf-b371ac01c07e',\n",
       " 'title': 'Medicare Physician & Other Practitioners - by Provider : 2021-12-16',\n",
       " 'modified': '2024-06-04',\n",
       " 'temporal': '2021-01-01/2021-12-31'}"
      ]
     },
     "execution_count": 6,
     "metadata": {},
     "output_type": "execute_result"
    }
   ],
   "source": [
    "csv_distros[1]"
   ]
  },
  {
   "cell_type": "code",
   "execution_count": 7,
   "metadata": {},
   "outputs": [
    {
     "data": {
      "text/plain": [
       "20"
      ]
     },
     "execution_count": 7,
     "metadata": {},
     "output_type": "execute_result"
    }
   ],
   "source": [
    "len(csv_distros)"
   ]
  },
  {
   "cell_type": "code",
   "execution_count": 8,
   "metadata": {},
   "outputs": [
    {
     "data": {
      "text/plain": [
       "{'@type': 'dcat:Distribution',\n",
       " 'downloadURL': 'https://data.cms.gov/sites/default/files/2024-06/b42010e8-2029-4adc-b9ef-231d0fecb413/MUP_PHY_R24_P05_V10_D13_Prov.csv',\n",
       " 'mediaType': 'text/csv',\n",
       " 'resourcesAPI': 'https://data.cms.gov/data-api/v1/dataset-resources/20f32dd0-a755-43cd-80bf-091a9200d2d0',\n",
       " 'title': 'Medicare Physician & Other Practitioners - by Provider : 2013-12-16',\n",
       " 'modified': '2024-06-04',\n",
       " 'temporal': '2013-01-01/2013-12-31'}"
      ]
     },
     "execution_count": 8,
     "metadata": {},
     "output_type": "execute_result"
    }
   ],
   "source": [
    "csv_distros[19]"
   ]
  },
  {
   "cell_type": "code",
   "execution_count": 9,
   "metadata": {},
   "outputs": [],
   "source": [
    "import pandas as pd"
   ]
  },
  {
   "cell_type": "code",
   "execution_count": 11,
   "metadata": {},
   "outputs": [],
   "source": [
    "mpop = pd.DataFrame(csv_distros)"
   ]
  },
  {
   "cell_type": "code",
   "execution_count": 12,
   "metadata": {},
   "outputs": [],
   "source": [
    "mpop.to_csv(\"01_data/medicare_providers_csv_download_data.csv\")"
   ]
  },
  {
   "cell_type": "code",
   "execution_count": null,
   "metadata": {},
   "outputs": [],
   "source": []
  }
 ],
 "metadata": {
  "kernelspec": {
   "display_name": "ds4b_301p",
   "language": "python",
   "name": "python3"
  },
  "language_info": {
   "codemirror_mode": {
    "name": "ipython",
    "version": 3
   },
   "file_extension": ".py",
   "mimetype": "text/x-python",
   "name": "python",
   "nbconvert_exporter": "python",
   "pygments_lexer": "ipython3",
   "version": "3.10.14"
  }
 },
 "nbformat": 4,
 "nbformat_minor": 2
}
