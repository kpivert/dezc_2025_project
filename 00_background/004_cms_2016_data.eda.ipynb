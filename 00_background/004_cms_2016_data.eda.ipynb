{
 "cells": [
  {
   "cell_type": "code",
   "execution_count": 9,
   "metadata": {},
   "outputs": [],
   "source": [
    "import polars as pl\n",
    "import polars.selectors as cs"
   ]
  },
  {
   "cell_type": "code",
   "execution_count": null,
   "metadata": {},
   "outputs": [],
   "source": [
    "df = pl.read_csv(\n",
    "  \"~/Downloads/Data 2016.csv\",\n",
    "  has_header = True,\n",
    "  ignore_errors = True\n",
    "  )"
   ]
  },
  {
   "cell_type": "code",
   "execution_count": 7,
   "metadata": {},
   "outputs": [
    {
     "data": {
      "text/html": [
       "<div><style>\n",
       ".dataframe > thead > tr,\n",
       ".dataframe > tbody > tr {\n",
       "  text-align: right;\n",
       "  white-space: pre-wrap;\n",
       "}\n",
       "</style>\n",
       "<small>shape: (5, 57)</small><table border=\"1\" class=\"dataframe\"><thead><tr><th>Rndrng_NPI</th><th>Rndrng_Prvdr_Last_Org_Name</th><th>Rndrng_Prvdr_First_Name</th><th>Rndrng_Prvdr_MI</th><th>Rndrng_Prvdr_Crdntls</th><th>Rndrng_Prvdr_Gndr</th><th>Rndrng_Prvdr_Ent_Cd</th><th>Rndrng_Prvdr_St1</th><th>Rndrng_Prvdr_St2</th><th>Rndrng_Prvdr_City</th><th>Rndrng_Prvdr_State_Abrvtn</th><th>Rndrng_Prvdr_State_FIPS</th><th>Rndrng_Prvdr_Zip5</th><th>Rndrng_Prvdr_RUCA</th><th>Rndrng_Prvdr_RUCA_Desc</th><th>Rndrng_Prvdr_Cntry</th><th>Rndrng_Prvdr_Type</th><th>Rndrng_Prvdr_Mdcr_Prtcptg_Ind</th><th>Tot_HCPCS_Cds</th><th>Tot_Benes</th><th>Tot_Srvcs</th><th>Tot_Sbmtd_Chrg</th><th>Tot_Mdcr_Alowd_Amt</th><th>Tot_Mdcr_Pymt_Amt</th><th>Tot_Mdcr_Stdzd_Amt</th><th>Drug_Sprsn_Ind</th><th>Drug_Tot_HCPCS_Cds</th><th>Drug_Tot_Benes</th><th>Drug_Tot_Srvcs</th><th>Drug_Sbmtd_Chrg</th><th>Drug_Mdcr_Alowd_Amt</th><th>Drug_Mdcr_Pymt_Amt</th><th>Drug_Mdcr_Stdzd_Amt</th><th>Med_Sprsn_Ind</th><th>Med_Tot_HCPCS_Cds</th><th>Med_Tot_Benes</th><th>Med_Tot_Srvcs</th><th>Med_Sbmtd_Chrg</th><th>Med_Mdcr_Alowd_Amt</th><th>Med_Mdcr_Pymt_Amt</th><th>Med_Mdcr_Stdzd_Amt</th><th>Bene_Avg_Age</th><th>Bene_Age_LT_65_Cnt</th><th>Bene_Age_65_74_Cnt</th><th>Bene_Age_75_84_Cnt</th><th>Bene_Age_GT_84_Cnt</th><th>Bene_Feml_Cnt</th><th>Bene_Male_Cnt</th><th>Bene_Race_Wht_Cnt</th><th>Bene_Race_Black_Cnt</th><th>Bene_Race_API_Cnt</th><th>Bene_Race_Hspnc_Cnt</th><th>Bene_Race_NatInd_Cnt</th><th>Bene_Race_Othr_Cnt</th><th>Bene_Dual_Cnt</th><th>Bene_Ndual_Cnt</th><th>Bene_Avg_Risk_Scre</th></tr><tr><td>i64</td><td>str</td><td>str</td><td>str</td><td>str</td><td>str</td><td>str</td><td>str</td><td>str</td><td>str</td><td>str</td><td>i64</td><td>i64</td><td>f64</td><td>str</td><td>str</td><td>str</td><td>str</td><td>i64</td><td>i64</td><td>f64</td><td>f64</td><td>f64</td><td>f64</td><td>f64</td><td>str</td><td>i64</td><td>i64</td><td>i64</td><td>f64</td><td>f64</td><td>f64</td><td>f64</td><td>str</td><td>i64</td><td>i64</td><td>f64</td><td>f64</td><td>f64</td><td>f64</td><td>f64</td><td>i64</td><td>i64</td><td>i64</td><td>i64</td><td>i64</td><td>i64</td><td>i64</td><td>i64</td><td>i64</td><td>i64</td><td>i64</td><td>i64</td><td>i64</td><td>i64</td><td>i64</td><td>f64</td></tr></thead><tbody><tr><td>1003000126</td><td>&quot;ENKESHAFI&quot;</td><td>&quot;ARDALAN&quot;</td><td>null</td><td>&quot;M.D.&quot;</td><td>&quot;M&quot;</td><td>&quot;I&quot;</td><td>&quot;900 SETON DR&quot;</td><td>null</td><td>&quot;CUMBERLAND&quot;</td><td>&quot;MD&quot;</td><td>24</td><td>21502</td><td>1.0</td><td>&quot;Metropolitan area core: primar…</td><td>&quot;US&quot;</td><td>&quot;Internal Medicine&quot;</td><td>&quot;Y&quot;</td><td>23</td><td>518</td><td>1477.0</td><td>746533.0</td><td>157362.25</td><td>124795.99</td><td>126129.38</td><td>null</td><td>0</td><td>0</td><td>0</td><td>0.0</td><td>0.0</td><td>0.0</td><td>0.0</td><td>null</td><td>23</td><td>518</td><td>1477.0</td><td>746533.0</td><td>157362.25</td><td>124795.99</td><td>126129.38</td><td>75</td><td>74</td><td>172</td><td>157</td><td>115</td><td>286</td><td>232</td><td>466</td><td>39</td><td>null</td><td>null</td><td>0</td><td>null</td><td>154</td><td>364</td><td>2.0239</td></tr><tr><td>1003000134</td><td>&quot;CIBULL&quot;</td><td>&quot;THOMAS&quot;</td><td>&quot;L&quot;</td><td>&quot;M.D.&quot;</td><td>&quot;M&quot;</td><td>&quot;I&quot;</td><td>&quot;2650 RIDGE AVE&quot;</td><td>&quot;EVANSTON HOSPITAL&quot;</td><td>&quot;EVANSTON&quot;</td><td>&quot;IL&quot;</td><td>17</td><td>60201</td><td>1.0</td><td>&quot;Metropolitan area core: primar…</td><td>&quot;US&quot;</td><td>&quot;Pathology&quot;</td><td>&quot;Y&quot;</td><td>18</td><td>4003</td><td>8704.0</td><td>1.372997e6</td><td>336799.03</td><td>256165.66</td><td>247675.89</td><td>null</td><td>0</td><td>0</td><td>0</td><td>0.0</td><td>0.0</td><td>0.0</td><td>0.0</td><td>null</td><td>18</td><td>4003</td><td>8704.0</td><td>1.372997e6</td><td>336799.03</td><td>256165.66</td><td>247675.89</td><td>76</td><td>120</td><td>1703</td><td>1392</td><td>788</td><td>1954</td><td>2049</td><td>3734</td><td>61</td><td>null</td><td>55</td><td>null</td><td>104</td><td>193</td><td>3810</td><td>1.0925</td></tr><tr><td>1003000142</td><td>&quot;KHALIL&quot;</td><td>&quot;RASHID&quot;</td><td>null</td><td>&quot;M.D.&quot;</td><td>&quot;M&quot;</td><td>&quot;I&quot;</td><td>&quot;4126 N HOLLAND SYLVANIA RD&quot;</td><td>&quot;SUITE 220&quot;</td><td>&quot;TOLEDO&quot;</td><td>&quot;OH&quot;</td><td>39</td><td>43623</td><td>1.0</td><td>&quot;Metropolitan area core: primar…</td><td>&quot;US&quot;</td><td>&quot;Anesthesiology&quot;</td><td>&quot;Y&quot;</td><td>43</td><td>208</td><td>1608.0</td><td>158846.0</td><td>89764.66</td><td>66353.23</td><td>69022.76</td><td>&quot;*&quot;</td><td>null</td><td>null</td><td>null</td><td>null</td><td>null</td><td>null</td><td>null</td><td>&quot;#&quot;</td><td>null</td><td>null</td><td>null</td><td>null</td><td>null</td><td>null</td><td>null</td><td>63</td><td>101</td><td>67</td><td>null</td><td>null</td><td>122</td><td>86</td><td>161</td><td>null</td><td>null</td><td>null</td><td>null</td><td>null</td><td>92</td><td>116</td><td>1.5809</td></tr><tr><td>1003000407</td><td>&quot;GIRARDI&quot;</td><td>&quot;DAVID&quot;</td><td>&quot;J&quot;</td><td>&quot;D.O.&quot;</td><td>&quot;M&quot;</td><td>&quot;I&quot;</td><td>&quot;100 HOSPITAL RD&quot;</td><td>null</td><td>&quot;BROOKVILLE&quot;</td><td>&quot;PA&quot;</td><td>42</td><td>15825</td><td>8.0</td><td>&quot;Small town high commuting: pri…</td><td>&quot;US&quot;</td><td>&quot;Family Practice&quot;</td><td>&quot;Y&quot;</td><td>31</td><td>401</td><td>1637.0</td><td>260033.0</td><td>173520.7</td><td>136143.38</td><td>141936.65</td><td>null</td><td>0</td><td>0</td><td>0</td><td>0.0</td><td>0.0</td><td>0.0</td><td>0.0</td><td>null</td><td>31</td><td>401</td><td>1637.0</td><td>260033.0</td><td>173520.7</td><td>136143.38</td><td>141936.65</td><td>78</td><td>36</td><td>93</td><td>137</td><td>135</td><td>234</td><td>167</td><td>null</td><td>null</td><td>null</td><td>null</td><td>null</td><td>null</td><td>136</td><td>265</td><td>2.0</td></tr><tr><td>1003000423</td><td>&quot;VELOTTA&quot;</td><td>&quot;JENNIFER&quot;</td><td>&quot;A&quot;</td><td>&quot;M.D.&quot;</td><td>&quot;F&quot;</td><td>&quot;I&quot;</td><td>&quot;11100 EUCLID AVE&quot;</td><td>null</td><td>&quot;CLEVELAND&quot;</td><td>&quot;OH&quot;</td><td>39</td><td>44106</td><td>1.0</td><td>&quot;Metropolitan area core: primar…</td><td>&quot;US&quot;</td><td>&quot;Obstetrics &amp; Gynecology&quot;</td><td>&quot;Y&quot;</td><td>26</td><td>82</td><td>163.0</td><td>25862.0</td><td>12894.39</td><td>10519.26</td><td>11261.45</td><td>null</td><td>0</td><td>0</td><td>0</td><td>0.0</td><td>0.0</td><td>0.0</td><td>0.0</td><td>null</td><td>26</td><td>82</td><td>163.0</td><td>25862.0</td><td>12894.39</td><td>10519.26</td><td>11261.45</td><td>67</td><td>19</td><td>42</td><td>null</td><td>null</td><td>82</td><td>0</td><td>null</td><td>null</td><td>null</td><td>null</td><td>null</td><td>null</td><td>20</td><td>62</td><td>0.954</td></tr></tbody></table></div>"
      ],
      "text/plain": [
       "shape: (5, 57)\n",
       "┌───────────┬───────────┬───────────┬───────────┬───┬───────────┬───────────┬───────────┬──────────┐\n",
       "│ Rndrng_NP ┆ Rndrng_Pr ┆ Rndrng_Pr ┆ Rndrng_Pr ┆ … ┆ Bene_Race ┆ Bene_Dual ┆ Bene_Ndua ┆ Bene_Avg │\n",
       "│ I         ┆ vdr_Last_ ┆ vdr_First ┆ vdr_MI    ┆   ┆ _Othr_Cnt ┆ _Cnt      ┆ l_Cnt     ┆ _Risk_Sc │\n",
       "│ ---       ┆ Org_Name  ┆ _Name     ┆ ---       ┆   ┆ ---       ┆ ---       ┆ ---       ┆ re       │\n",
       "│ i64       ┆ ---       ┆ ---       ┆ str       ┆   ┆ i64       ┆ i64       ┆ i64       ┆ ---      │\n",
       "│           ┆ str       ┆ str       ┆           ┆   ┆           ┆           ┆           ┆ f64      │\n",
       "╞═══════════╪═══════════╪═══════════╪═══════════╪═══╪═══════════╪═══════════╪═══════════╪══════════╡\n",
       "│ 100300012 ┆ ENKESHAFI ┆ ARDALAN   ┆ null      ┆ … ┆ null      ┆ 154       ┆ 364       ┆ 2.0239   │\n",
       "│ 6         ┆           ┆           ┆           ┆   ┆           ┆           ┆           ┆          │\n",
       "│ 100300013 ┆ CIBULL    ┆ THOMAS    ┆ L         ┆ … ┆ 104       ┆ 193       ┆ 3810      ┆ 1.0925   │\n",
       "│ 4         ┆           ┆           ┆           ┆   ┆           ┆           ┆           ┆          │\n",
       "│ 100300014 ┆ KHALIL    ┆ RASHID    ┆ null      ┆ … ┆ null      ┆ 92        ┆ 116       ┆ 1.5809   │\n",
       "│ 2         ┆           ┆           ┆           ┆   ┆           ┆           ┆           ┆          │\n",
       "│ 100300040 ┆ GIRARDI   ┆ DAVID     ┆ J         ┆ … ┆ null      ┆ 136       ┆ 265       ┆ 2.0      │\n",
       "│ 7         ┆           ┆           ┆           ┆   ┆           ┆           ┆           ┆          │\n",
       "│ 100300042 ┆ VELOTTA   ┆ JENNIFER  ┆ A         ┆ … ┆ null      ┆ 20        ┆ 62        ┆ 0.954    │\n",
       "│ 3         ┆           ┆           ┆           ┆   ┆           ┆           ┆           ┆          │\n",
       "└───────────┴───────────┴───────────┴───────────┴───┴───────────┴───────────┴───────────┴──────────┘"
      ]
     },
     "execution_count": 7,
     "metadata": {},
     "output_type": "execute_result"
    }
   ],
   "source": [
    "df.head()"
   ]
  },
  {
   "cell_type": "code",
   "execution_count": 8,
   "metadata": {},
   "outputs": [
    {
     "data": {
      "text/plain": [
       "polars.dataframe.frame.DataFrame"
      ]
     },
     "execution_count": 8,
     "metadata": {},
     "output_type": "execute_result"
    }
   ],
   "source": [
    "type(df)"
   ]
  },
  {
   "cell_type": "code",
   "execution_count": 10,
   "metadata": {},
   "outputs": [
    {
     "data": {
      "text/html": [
       "<div><style>\n",
       ".dataframe > thead > tr,\n",
       ".dataframe > tbody > tr {\n",
       "  text-align: right;\n",
       "  white-space: pre-wrap;\n",
       "}\n",
       "</style>\n",
       "<small>shape: (1_053_958, 16)</small><table border=\"1\" class=\"dataframe\"><thead><tr><th>Rndrng_Prvdr_Last_Org_Name</th><th>Rndrng_Prvdr_First_Name</th><th>Rndrng_Prvdr_MI</th><th>Rndrng_Prvdr_Crdntls</th><th>Rndrng_Prvdr_Gndr</th><th>Rndrng_Prvdr_Ent_Cd</th><th>Rndrng_Prvdr_St1</th><th>Rndrng_Prvdr_St2</th><th>Rndrng_Prvdr_City</th><th>Rndrng_Prvdr_State_Abrvtn</th><th>Rndrng_Prvdr_RUCA_Desc</th><th>Rndrng_Prvdr_Cntry</th><th>Rndrng_Prvdr_Type</th><th>Rndrng_Prvdr_Mdcr_Prtcptg_Ind</th><th>Drug_Sprsn_Ind</th><th>Med_Sprsn_Ind</th></tr><tr><td>str</td><td>str</td><td>str</td><td>str</td><td>str</td><td>str</td><td>str</td><td>str</td><td>str</td><td>str</td><td>str</td><td>str</td><td>str</td><td>str</td><td>str</td><td>str</td></tr></thead><tbody><tr><td>&quot;ENKESHAFI&quot;</td><td>&quot;ARDALAN&quot;</td><td>null</td><td>&quot;M.D.&quot;</td><td>&quot;M&quot;</td><td>&quot;I&quot;</td><td>&quot;900 SETON DR&quot;</td><td>null</td><td>&quot;CUMBERLAND&quot;</td><td>&quot;MD&quot;</td><td>&quot;Metropolitan area core: primar…</td><td>&quot;US&quot;</td><td>&quot;Internal Medicine&quot;</td><td>&quot;Y&quot;</td><td>null</td><td>null</td></tr><tr><td>&quot;CIBULL&quot;</td><td>&quot;THOMAS&quot;</td><td>&quot;L&quot;</td><td>&quot;M.D.&quot;</td><td>&quot;M&quot;</td><td>&quot;I&quot;</td><td>&quot;2650 RIDGE AVE&quot;</td><td>&quot;EVANSTON HOSPITAL&quot;</td><td>&quot;EVANSTON&quot;</td><td>&quot;IL&quot;</td><td>&quot;Metropolitan area core: primar…</td><td>&quot;US&quot;</td><td>&quot;Pathology&quot;</td><td>&quot;Y&quot;</td><td>null</td><td>null</td></tr><tr><td>&quot;KHALIL&quot;</td><td>&quot;RASHID&quot;</td><td>null</td><td>&quot;M.D.&quot;</td><td>&quot;M&quot;</td><td>&quot;I&quot;</td><td>&quot;4126 N HOLLAND SYLVANIA RD&quot;</td><td>&quot;SUITE 220&quot;</td><td>&quot;TOLEDO&quot;</td><td>&quot;OH&quot;</td><td>&quot;Metropolitan area core: primar…</td><td>&quot;US&quot;</td><td>&quot;Anesthesiology&quot;</td><td>&quot;Y&quot;</td><td>&quot;*&quot;</td><td>&quot;#&quot;</td></tr><tr><td>&quot;GIRARDI&quot;</td><td>&quot;DAVID&quot;</td><td>&quot;J&quot;</td><td>&quot;D.O.&quot;</td><td>&quot;M&quot;</td><td>&quot;I&quot;</td><td>&quot;100 HOSPITAL RD&quot;</td><td>null</td><td>&quot;BROOKVILLE&quot;</td><td>&quot;PA&quot;</td><td>&quot;Small town high commuting: pri…</td><td>&quot;US&quot;</td><td>&quot;Family Practice&quot;</td><td>&quot;Y&quot;</td><td>null</td><td>null</td></tr><tr><td>&quot;VELOTTA&quot;</td><td>&quot;JENNIFER&quot;</td><td>&quot;A&quot;</td><td>&quot;M.D.&quot;</td><td>&quot;F&quot;</td><td>&quot;I&quot;</td><td>&quot;11100 EUCLID AVE&quot;</td><td>null</td><td>&quot;CLEVELAND&quot;</td><td>&quot;OH&quot;</td><td>&quot;Metropolitan area core: primar…</td><td>&quot;US&quot;</td><td>&quot;Obstetrics &amp; Gynecology&quot;</td><td>&quot;Y&quot;</td><td>null</td><td>null</td></tr><tr><td>&hellip;</td><td>&hellip;</td><td>&hellip;</td><td>&hellip;</td><td>&hellip;</td><td>&hellip;</td><td>&hellip;</td><td>&hellip;</td><td>&hellip;</td><td>&hellip;</td><td>&hellip;</td><td>&hellip;</td><td>&hellip;</td><td>&hellip;</td><td>&hellip;</td><td>&hellip;</td></tr><tr><td>&quot;YUEN&quot;</td><td>&quot;JENNY&quot;</td><td>&quot;F&quot;</td><td>&quot;O.D., F.A.A.O&quot;</td><td>&quot;F&quot;</td><td>&quot;I&quot;</td><td>&quot;195 PEABODY ST&quot;</td><td>null</td><td>&quot;SAN FRANCISCO&quot;</td><td>&quot;CA&quot;</td><td>&quot;Metropolitan area core: primar…</td><td>&quot;US&quot;</td><td>&quot;Optometry&quot;</td><td>&quot;Y&quot;</td><td>null</td><td>null</td></tr><tr><td>&quot;SORIANO&quot;</td><td>&quot;DINO&quot;</td><td>&quot;V&quot;</td><td>&quot;RN MSN HSA FNP-C&quot;</td><td>&quot;M&quot;</td><td>&quot;I&quot;</td><td>&quot;171 CLOVER POINT CIR&quot;</td><td>null</td><td>&quot;GUYTON&quot;</td><td>&quot;GA&quot;</td><td>&quot;Metropolitan area high commuti…</td><td>&quot;US&quot;</td><td>&quot;Nurse Practitioner&quot;</td><td>&quot;Y&quot;</td><td>null</td><td>null</td></tr><tr><td>&quot;SPINE SURGERY CENTER OF EUGENE…</td><td>null</td><td>null</td><td>null</td><td>null</td><td>&quot;O&quot;</td><td>&quot;1410 OAK ST&quot;</td><td>&quot;SUITE 300&quot;</td><td>&quot;EUGENE&quot;</td><td>&quot;OR&quot;</td><td>&quot;Metropolitan area core: primar…</td><td>&quot;US&quot;</td><td>&quot;Ambulatory Surgical Center&quot;</td><td>&quot;Y&quot;</td><td>null</td><td>null</td></tr><tr><td>&quot;DESCHENES&quot;</td><td>&quot;GEOFFREY&quot;</td><td>&quot;R&quot;</td><td>&quot;M.D.&quot;</td><td>&quot;M&quot;</td><td>&quot;I&quot;</td><td>&quot;1100 9TH AVE&quot;</td><td>&quot;MS:M4-PFS&quot;</td><td>&quot;SEATTLE&quot;</td><td>&quot;WA&quot;</td><td>&quot;Metropolitan area core: primar…</td><td>&quot;US&quot;</td><td>&quot;Otolaryngology&quot;</td><td>&quot;Y&quot;</td><td>null</td><td>null</td></tr><tr><td>&quot;JOFFE&quot;</td><td>&quot;GABRIELLA&quot;</td><td>null</td><td>null</td><td>&quot;F&quot;</td><td>&quot;I&quot;</td><td>&quot;8260 ATLEE RD&quot;</td><td>&quot;MOB 2, SUITE 319&quot;</td><td>&quot;MECHANICSVILLE&quot;</td><td>&quot;VA&quot;</td><td>&quot;Metropolitan area core: primar…</td><td>&quot;US&quot;</td><td>&quot;Internal Medicine&quot;</td><td>&quot;Y&quot;</td><td>null</td><td>null</td></tr></tbody></table></div>"
      ],
      "text/plain": [
       "shape: (1_053_958, 16)\n",
       "┌───────────┬───────────┬───────────┬───────────┬───┬───────────┬───────────┬───────────┬──────────┐\n",
       "│ Rndrng_Pr ┆ Rndrng_Pr ┆ Rndrng_Pr ┆ Rndrng_Pr ┆ … ┆ Rndrng_Pr ┆ Rndrng_Pr ┆ Drug_Sprs ┆ Med_Sprs │\n",
       "│ vdr_Last_ ┆ vdr_First ┆ vdr_MI    ┆ vdr_Crdnt ┆   ┆ vdr_Type  ┆ vdr_Mdcr_ ┆ n_Ind     ┆ n_Ind    │\n",
       "│ Org_Name  ┆ _Name     ┆ ---       ┆ ls        ┆   ┆ ---       ┆ Prtcptg_I ┆ ---       ┆ ---      │\n",
       "│ ---       ┆ ---       ┆ str       ┆ ---       ┆   ┆ str       ┆ nd        ┆ str       ┆ str      │\n",
       "│ str       ┆ str       ┆           ┆ str       ┆   ┆           ┆ ---       ┆           ┆          │\n",
       "│           ┆           ┆           ┆           ┆   ┆           ┆ str       ┆           ┆          │\n",
       "╞═══════════╪═══════════╪═══════════╪═══════════╪═══╪═══════════╪═══════════╪═══════════╪══════════╡\n",
       "│ ENKESHAFI ┆ ARDALAN   ┆ null      ┆ M.D.      ┆ … ┆ Internal  ┆ Y         ┆ null      ┆ null     │\n",
       "│           ┆           ┆           ┆           ┆   ┆ Medicine  ┆           ┆           ┆          │\n",
       "│ CIBULL    ┆ THOMAS    ┆ L         ┆ M.D.      ┆ … ┆ Pathology ┆ Y         ┆ null      ┆ null     │\n",
       "│ KHALIL    ┆ RASHID    ┆ null      ┆ M.D.      ┆ … ┆ Anesthesi ┆ Y         ┆ *         ┆ #        │\n",
       "│           ┆           ┆           ┆           ┆   ┆ ology     ┆           ┆           ┆          │\n",
       "│ GIRARDI   ┆ DAVID     ┆ J         ┆ D.O.      ┆ … ┆ Family    ┆ Y         ┆ null      ┆ null     │\n",
       "│           ┆           ┆           ┆           ┆   ┆ Practice  ┆           ┆           ┆          │\n",
       "│ VELOTTA   ┆ JENNIFER  ┆ A         ┆ M.D.      ┆ … ┆ Obstetric ┆ Y         ┆ null      ┆ null     │\n",
       "│           ┆           ┆           ┆           ┆   ┆ s & Gynec ┆           ┆           ┆          │\n",
       "│           ┆           ┆           ┆           ┆   ┆ ology     ┆           ┆           ┆          │\n",
       "│ …         ┆ …         ┆ …         ┆ …         ┆ … ┆ …         ┆ …         ┆ …         ┆ …        │\n",
       "│ YUEN      ┆ JENNY     ┆ F         ┆ O.D.,     ┆ … ┆ Optometry ┆ Y         ┆ null      ┆ null     │\n",
       "│           ┆           ┆           ┆ F.A.A.O   ┆   ┆           ┆           ┆           ┆          │\n",
       "│ SORIANO   ┆ DINO      ┆ V         ┆ RN MSN    ┆ … ┆ Nurse Pra ┆ Y         ┆ null      ┆ null     │\n",
       "│           ┆           ┆           ┆ HSA FNP-C ┆   ┆ ctitioner ┆           ┆           ┆          │\n",
       "│ SPINE     ┆ null      ┆ null      ┆ null      ┆ … ┆ Ambulator ┆ Y         ┆ null      ┆ null     │\n",
       "│ SURGERY   ┆           ┆           ┆           ┆   ┆ y         ┆           ┆           ┆          │\n",
       "│ CENTER OF ┆           ┆           ┆           ┆   ┆ Surgical  ┆           ┆           ┆          │\n",
       "│ EUGENE…   ┆           ┆           ┆           ┆   ┆ Center    ┆           ┆           ┆          │\n",
       "│ DESCHENES ┆ GEOFFREY  ┆ R         ┆ M.D.      ┆ … ┆ Otolaryng ┆ Y         ┆ null      ┆ null     │\n",
       "│           ┆           ┆           ┆           ┆   ┆ ology     ┆           ┆           ┆          │\n",
       "│ JOFFE     ┆ GABRIELLA ┆ null      ┆ null      ┆ … ┆ Internal  ┆ Y         ┆ null      ┆ null     │\n",
       "│           ┆           ┆           ┆           ┆   ┆ Medicine  ┆           ┆           ┆          │\n",
       "└───────────┴───────────┴───────────┴───────────┴───┴───────────┴───────────┴───────────┴──────────┘"
      ]
     },
     "execution_count": 10,
     "metadata": {},
     "output_type": "execute_result"
    }
   ],
   "source": [
    "df.select(cs.starts_with(\"rn\") | cs.string())"
   ]
  },
  {
   "cell_type": "code",
   "execution_count": 11,
   "metadata": {},
   "outputs": [
    {
     "data": {
      "text/html": [
       "<div><style>\n",
       ".dataframe > thead > tr,\n",
       ".dataframe > tbody > tr {\n",
       "  text-align: right;\n",
       "  white-space: pre-wrap;\n",
       "}\n",
       "</style>\n",
       "<small>shape: (1_053_958, 41)</small><table border=\"1\" class=\"dataframe\"><thead><tr><th>Rndrng_NPI</th><th>Rndrng_Prvdr_State_FIPS</th><th>Rndrng_Prvdr_Zip5</th><th>Rndrng_Prvdr_RUCA</th><th>Tot_HCPCS_Cds</th><th>Tot_Benes</th><th>Tot_Srvcs</th><th>Tot_Sbmtd_Chrg</th><th>Tot_Mdcr_Alowd_Amt</th><th>Tot_Mdcr_Pymt_Amt</th><th>Tot_Mdcr_Stdzd_Amt</th><th>Drug_Tot_HCPCS_Cds</th><th>Drug_Tot_Benes</th><th>Drug_Tot_Srvcs</th><th>Drug_Sbmtd_Chrg</th><th>Drug_Mdcr_Alowd_Amt</th><th>Drug_Mdcr_Pymt_Amt</th><th>Drug_Mdcr_Stdzd_Amt</th><th>Med_Tot_HCPCS_Cds</th><th>Med_Tot_Benes</th><th>Med_Tot_Srvcs</th><th>Med_Sbmtd_Chrg</th><th>Med_Mdcr_Alowd_Amt</th><th>Med_Mdcr_Pymt_Amt</th><th>Med_Mdcr_Stdzd_Amt</th><th>Bene_Avg_Age</th><th>Bene_Age_LT_65_Cnt</th><th>Bene_Age_65_74_Cnt</th><th>Bene_Age_75_84_Cnt</th><th>Bene_Age_GT_84_Cnt</th><th>Bene_Feml_Cnt</th><th>Bene_Male_Cnt</th><th>Bene_Race_Wht_Cnt</th><th>Bene_Race_Black_Cnt</th><th>Bene_Race_API_Cnt</th><th>Bene_Race_Hspnc_Cnt</th><th>Bene_Race_NatInd_Cnt</th><th>Bene_Race_Othr_Cnt</th><th>Bene_Dual_Cnt</th><th>Bene_Ndual_Cnt</th><th>Bene_Avg_Risk_Scre</th></tr><tr><td>i64</td><td>i64</td><td>i64</td><td>f64</td><td>i64</td><td>i64</td><td>f64</td><td>f64</td><td>f64</td><td>f64</td><td>f64</td><td>i64</td><td>i64</td><td>i64</td><td>f64</td><td>f64</td><td>f64</td><td>f64</td><td>i64</td><td>i64</td><td>f64</td><td>f64</td><td>f64</td><td>f64</td><td>f64</td><td>i64</td><td>i64</td><td>i64</td><td>i64</td><td>i64</td><td>i64</td><td>i64</td><td>i64</td><td>i64</td><td>i64</td><td>i64</td><td>i64</td><td>i64</td><td>i64</td><td>i64</td><td>f64</td></tr></thead><tbody><tr><td>1003000126</td><td>24</td><td>21502</td><td>1.0</td><td>23</td><td>518</td><td>1477.0</td><td>746533.0</td><td>157362.25</td><td>124795.99</td><td>126129.38</td><td>0</td><td>0</td><td>0</td><td>0.0</td><td>0.0</td><td>0.0</td><td>0.0</td><td>23</td><td>518</td><td>1477.0</td><td>746533.0</td><td>157362.25</td><td>124795.99</td><td>126129.38</td><td>75</td><td>74</td><td>172</td><td>157</td><td>115</td><td>286</td><td>232</td><td>466</td><td>39</td><td>null</td><td>null</td><td>0</td><td>null</td><td>154</td><td>364</td><td>2.0239</td></tr><tr><td>1003000134</td><td>17</td><td>60201</td><td>1.0</td><td>18</td><td>4003</td><td>8704.0</td><td>1.372997e6</td><td>336799.03</td><td>256165.66</td><td>247675.89</td><td>0</td><td>0</td><td>0</td><td>0.0</td><td>0.0</td><td>0.0</td><td>0.0</td><td>18</td><td>4003</td><td>8704.0</td><td>1.372997e6</td><td>336799.03</td><td>256165.66</td><td>247675.89</td><td>76</td><td>120</td><td>1703</td><td>1392</td><td>788</td><td>1954</td><td>2049</td><td>3734</td><td>61</td><td>null</td><td>55</td><td>null</td><td>104</td><td>193</td><td>3810</td><td>1.0925</td></tr><tr><td>1003000142</td><td>39</td><td>43623</td><td>1.0</td><td>43</td><td>208</td><td>1608.0</td><td>158846.0</td><td>89764.66</td><td>66353.23</td><td>69022.76</td><td>null</td><td>null</td><td>null</td><td>null</td><td>null</td><td>null</td><td>null</td><td>null</td><td>null</td><td>null</td><td>null</td><td>null</td><td>null</td><td>null</td><td>63</td><td>101</td><td>67</td><td>null</td><td>null</td><td>122</td><td>86</td><td>161</td><td>null</td><td>null</td><td>null</td><td>null</td><td>null</td><td>92</td><td>116</td><td>1.5809</td></tr><tr><td>1003000407</td><td>42</td><td>15825</td><td>8.0</td><td>31</td><td>401</td><td>1637.0</td><td>260033.0</td><td>173520.7</td><td>136143.38</td><td>141936.65</td><td>0</td><td>0</td><td>0</td><td>0.0</td><td>0.0</td><td>0.0</td><td>0.0</td><td>31</td><td>401</td><td>1637.0</td><td>260033.0</td><td>173520.7</td><td>136143.38</td><td>141936.65</td><td>78</td><td>36</td><td>93</td><td>137</td><td>135</td><td>234</td><td>167</td><td>null</td><td>null</td><td>null</td><td>null</td><td>null</td><td>null</td><td>136</td><td>265</td><td>2.0</td></tr><tr><td>1003000423</td><td>39</td><td>44106</td><td>1.0</td><td>26</td><td>82</td><td>163.0</td><td>25862.0</td><td>12894.39</td><td>10519.26</td><td>11261.45</td><td>0</td><td>0</td><td>0</td><td>0.0</td><td>0.0</td><td>0.0</td><td>0.0</td><td>26</td><td>82</td><td>163.0</td><td>25862.0</td><td>12894.39</td><td>10519.26</td><td>11261.45</td><td>67</td><td>19</td><td>42</td><td>null</td><td>null</td><td>82</td><td>0</td><td>null</td><td>null</td><td>null</td><td>null</td><td>null</td><td>null</td><td>20</td><td>62</td><td>0.954</td></tr><tr><td>&hellip;</td><td>&hellip;</td><td>&hellip;</td><td>&hellip;</td><td>&hellip;</td><td>&hellip;</td><td>&hellip;</td><td>&hellip;</td><td>&hellip;</td><td>&hellip;</td><td>&hellip;</td><td>&hellip;</td><td>&hellip;</td><td>&hellip;</td><td>&hellip;</td><td>&hellip;</td><td>&hellip;</td><td>&hellip;</td><td>&hellip;</td><td>&hellip;</td><td>&hellip;</td><td>&hellip;</td><td>&hellip;</td><td>&hellip;</td><td>&hellip;</td><td>&hellip;</td><td>&hellip;</td><td>&hellip;</td><td>&hellip;</td><td>&hellip;</td><td>&hellip;</td><td>&hellip;</td><td>&hellip;</td><td>&hellip;</td><td>&hellip;</td><td>&hellip;</td><td>&hellip;</td><td>&hellip;</td><td>&hellip;</td><td>&hellip;</td><td>&hellip;</td></tr><tr><td>1992999569</td><td>6</td><td>94134</td><td>1.0</td><td>13</td><td>33</td><td>63.0</td><td>8279.47</td><td>7264.89</td><td>5516.09</td><td>4515.52</td><td>0</td><td>0</td><td>0</td><td>0.0</td><td>0.0</td><td>0.0</td><td>0.0</td><td>13</td><td>33</td><td>63.0</td><td>8279.47</td><td>7264.89</td><td>5516.09</td><td>4515.52</td><td>71</td><td>null</td><td>22</td><td>null</td><td>null</td><td>18</td><td>15</td><td>null</td><td>null</td><td>null</td><td>null</td><td>null</td><td>null</td><td>null</td><td>null</td><td>1.0262</td></tr><tr><td>1992999759</td><td>13</td><td>31312</td><td>2.0</td><td>27</td><td>45</td><td>197.0</td><td>12995.0</td><td>5695.35</td><td>4000.31</td><td>4253.98</td><td>6</td><td>13</td><td>103</td><td>1230.0</td><td>61.29</td><td>46.65</td><td>46.65</td><td>21</td><td>45</td><td>94.0</td><td>11765.0</td><td>5634.06</td><td>3953.66</td><td>4207.33</td><td>70</td><td>null</td><td>28</td><td>null</td><td>null</td><td>31</td><td>14</td><td>null</td><td>null</td><td>null</td><td>null</td><td>null</td><td>null</td><td>null</td><td>null</td><td>0.8391</td></tr><tr><td>1992999775</td><td>41</td><td>97401</td><td>1.0</td><td>20</td><td>121</td><td>181.0</td><td>592395.0</td><td>211821.79</td><td>168442.49</td><td>155083.09</td><td>0</td><td>0</td><td>0</td><td>0.0</td><td>0.0</td><td>0.0</td><td>0.0</td><td>20</td><td>121</td><td>181.0</td><td>592395.0</td><td>211821.79</td><td>168442.49</td><td>155083.09</td><td>72</td><td>null</td><td>67</td><td>38</td><td>null</td><td>50</td><td>71</td><td>null</td><td>null</td><td>null</td><td>null</td><td>null</td><td>null</td><td>11</td><td>110</td><td>0.8674</td></tr><tr><td>1992999825</td><td>53</td><td>98101</td><td>1.0</td><td>64</td><td>554</td><td>1086.0</td><td>430763.75</td><td>139992.98</td><td>105547.75</td><td>100557.65</td><td>0</td><td>0</td><td>0</td><td>0.0</td><td>0.0</td><td>0.0</td><td>0.0</td><td>64</td><td>554</td><td>1086.0</td><td>430763.75</td><td>139992.98</td><td>105547.75</td><td>100557.65</td><td>75</td><td>53</td><td>218</td><td>187</td><td>96</td><td>293</td><td>261</td><td>498</td><td>16</td><td>24</td><td>null</td><td>null</td><td>null</td><td>50</td><td>504</td><td>1.1033</td></tr><tr><td>1992999874</td><td>51</td><td>23116</td><td>1.0</td><td>21</td><td>443</td><td>1024.0</td><td>275485.0</td><td>110392.88</td><td>87342.69</td><td>88511.37</td><td>0</td><td>0</td><td>0</td><td>0.0</td><td>0.0</td><td>0.0</td><td>0.0</td><td>21</td><td>443</td><td>1024.0</td><td>275485.0</td><td>110392.88</td><td>87342.69</td><td>88511.37</td><td>76</td><td>51</td><td>134</td><td>154</td><td>104</td><td>253</td><td>190</td><td>301</td><td>null</td><td>null</td><td>null</td><td>null</td><td>null</td><td>95</td><td>348</td><td>2.6029</td></tr></tbody></table></div>"
      ],
      "text/plain": [
       "shape: (1_053_958, 41)\n",
       "┌───────────┬───────────┬───────────┬───────────┬───┬───────────┬───────────┬───────────┬──────────┐\n",
       "│ Rndrng_NP ┆ Rndrng_Pr ┆ Rndrng_Pr ┆ Rndrng_Pr ┆ … ┆ Bene_Race ┆ Bene_Dual ┆ Bene_Ndua ┆ Bene_Avg │\n",
       "│ I         ┆ vdr_State ┆ vdr_Zip5  ┆ vdr_RUCA  ┆   ┆ _Othr_Cnt ┆ _Cnt      ┆ l_Cnt     ┆ _Risk_Sc │\n",
       "│ ---       ┆ _FIPS     ┆ ---       ┆ ---       ┆   ┆ ---       ┆ ---       ┆ ---       ┆ re       │\n",
       "│ i64       ┆ ---       ┆ i64       ┆ f64       ┆   ┆ i64       ┆ i64       ┆ i64       ┆ ---      │\n",
       "│           ┆ i64       ┆           ┆           ┆   ┆           ┆           ┆           ┆ f64      │\n",
       "╞═══════════╪═══════════╪═══════════╪═══════════╪═══╪═══════════╪═══════════╪═══════════╪══════════╡\n",
       "│ 100300012 ┆ 24        ┆ 21502     ┆ 1.0       ┆ … ┆ null      ┆ 154       ┆ 364       ┆ 2.0239   │\n",
       "│ 6         ┆           ┆           ┆           ┆   ┆           ┆           ┆           ┆          │\n",
       "│ 100300013 ┆ 17        ┆ 60201     ┆ 1.0       ┆ … ┆ 104       ┆ 193       ┆ 3810      ┆ 1.0925   │\n",
       "│ 4         ┆           ┆           ┆           ┆   ┆           ┆           ┆           ┆          │\n",
       "│ 100300014 ┆ 39        ┆ 43623     ┆ 1.0       ┆ … ┆ null      ┆ 92        ┆ 116       ┆ 1.5809   │\n",
       "│ 2         ┆           ┆           ┆           ┆   ┆           ┆           ┆           ┆          │\n",
       "│ 100300040 ┆ 42        ┆ 15825     ┆ 8.0       ┆ … ┆ null      ┆ 136       ┆ 265       ┆ 2.0      │\n",
       "│ 7         ┆           ┆           ┆           ┆   ┆           ┆           ┆           ┆          │\n",
       "│ 100300042 ┆ 39        ┆ 44106     ┆ 1.0       ┆ … ┆ null      ┆ 20        ┆ 62        ┆ 0.954    │\n",
       "│ 3         ┆           ┆           ┆           ┆   ┆           ┆           ┆           ┆          │\n",
       "│ …         ┆ …         ┆ …         ┆ …         ┆ … ┆ …         ┆ …         ┆ …         ┆ …        │\n",
       "│ 199299956 ┆ 6         ┆ 94134     ┆ 1.0       ┆ … ┆ null      ┆ null      ┆ null      ┆ 1.0262   │\n",
       "│ 9         ┆           ┆           ┆           ┆   ┆           ┆           ┆           ┆          │\n",
       "│ 199299975 ┆ 13        ┆ 31312     ┆ 2.0       ┆ … ┆ null      ┆ null      ┆ null      ┆ 0.8391   │\n",
       "│ 9         ┆           ┆           ┆           ┆   ┆           ┆           ┆           ┆          │\n",
       "│ 199299977 ┆ 41        ┆ 97401     ┆ 1.0       ┆ … ┆ null      ┆ 11        ┆ 110       ┆ 0.8674   │\n",
       "│ 5         ┆           ┆           ┆           ┆   ┆           ┆           ┆           ┆          │\n",
       "│ 199299982 ┆ 53        ┆ 98101     ┆ 1.0       ┆ … ┆ null      ┆ 50        ┆ 504       ┆ 1.1033   │\n",
       "│ 5         ┆           ┆           ┆           ┆   ┆           ┆           ┆           ┆          │\n",
       "│ 199299987 ┆ 51        ┆ 23116     ┆ 1.0       ┆ … ┆ null      ┆ 95        ┆ 348       ┆ 2.6029   │\n",
       "│ 4         ┆           ┆           ┆           ┆   ┆           ┆           ┆           ┆          │\n",
       "└───────────┴───────────┴───────────┴───────────┴───┴───────────┴───────────┴───────────┴──────────┘"
      ]
     },
     "execution_count": 11,
     "metadata": {},
     "output_type": "execute_result"
    }
   ],
   "source": [
    "df.select(~cs.string())"
   ]
  },
  {
   "cell_type": "code",
   "execution_count": 19,
   "metadata": {},
   "outputs": [
    {
     "data": {
      "text/html": [
       "<div><style>\n",
       ".dataframe > thead > tr,\n",
       ".dataframe > tbody > tr {\n",
       "  text-align: right;\n",
       "  white-space: pre-wrap;\n",
       "}\n",
       "</style>\n",
       "<small>shape: (91, 2)</small><table border=\"1\" class=\"dataframe\"><thead><tr><th>Rndrng_Prvdr_Type</th><th>N</th></tr><tr><td>str</td><td>u32</td></tr></thead><tbody><tr><td>&quot;Internal Medicine&quot;</td><td>100813</td></tr><tr><td>&quot;Nurse Practitioner&quot;</td><td>98293</td></tr><tr><td>&quot;Family Practice&quot;</td><td>84163</td></tr><tr><td>&quot;Physician Assistant&quot;</td><td>65860</td></tr><tr><td>&quot;Physical Therapist in Private …</td><td>47147</td></tr><tr><td>&hellip;</td><td>&hellip;</td></tr><tr><td>&quot;Slide Preparation Facility&quot;</td><td>24</td></tr><tr><td>&quot;Mammography Center&quot;</td><td>18</td></tr><tr><td>&quot;Unknown Supplier/Provider Spec…</td><td>12</td></tr><tr><td>&quot;Dentist&quot;</td><td>2</td></tr><tr><td>&quot;Hospitalist&quot;</td><td>2</td></tr></tbody></table></div>"
      ],
      "text/plain": [
       "shape: (91, 2)\n",
       "┌─────────────────────────────────┬────────┐\n",
       "│ Rndrng_Prvdr_Type               ┆ N      │\n",
       "│ ---                             ┆ ---    │\n",
       "│ str                             ┆ u32    │\n",
       "╞═════════════════════════════════╪════════╡\n",
       "│ Internal Medicine               ┆ 100813 │\n",
       "│ Nurse Practitioner              ┆ 98293  │\n",
       "│ Family Practice                 ┆ 84163  │\n",
       "│ Physician Assistant             ┆ 65860  │\n",
       "│ Physical Therapist in Private … ┆ 47147  │\n",
       "│ …                               ┆ …      │\n",
       "│ Slide Preparation Facility      ┆ 24     │\n",
       "│ Mammography Center              ┆ 18     │\n",
       "│ Unknown Supplier/Provider Spec… ┆ 12     │\n",
       "│ Dentist                         ┆ 2      │\n",
       "│ Hospitalist                     ┆ 2      │\n",
       "└─────────────────────────────────┴────────┘"
      ]
     },
     "execution_count": 19,
     "metadata": {},
     "output_type": "execute_result"
    }
   ],
   "source": [
    "(\n",
    "  df\n",
    "  .group_by(pl.col('Rndrng_Prvdr_Type'))\n",
    "  .len(name = \"N\")\n",
    "  .sort(\"N\", descending = True)\n",
    ")"
   ]
  },
  {
   "cell_type": "code",
   "execution_count": 20,
   "metadata": {},
   "outputs": [
    {
     "name": "stdout",
     "output_type": "stream",
     "text": [
      "shape: (1_053_958, 57)\n",
      "┌───────────┬───────────┬───────────┬───────────┬───┬───────────┬───────────┬───────────┬──────────┐\n",
      "│ Rndrng_NP ┆ Rndrng_Pr ┆ Rndrng_Pr ┆ Rndrng_Pr ┆ … ┆ Bene_Race ┆ Bene_Dual ┆ Bene_Ndua ┆ Bene_Avg │\n",
      "│ I         ┆ vdr_Last_ ┆ vdr_First ┆ vdr_MI    ┆   ┆ _Othr_Cnt ┆ _Cnt      ┆ l_Cnt     ┆ _Risk_Sc │\n",
      "│ ---       ┆ Org_Name  ┆ _Name     ┆ ---       ┆   ┆ ---       ┆ ---       ┆ ---       ┆ re       │\n",
      "│ i64       ┆ ---       ┆ ---       ┆ str       ┆   ┆ i64       ┆ i64       ┆ i64       ┆ ---      │\n",
      "│           ┆ str       ┆ str       ┆           ┆   ┆           ┆           ┆           ┆ f64      │\n",
      "╞═══════════╪═══════════╪═══════════╪═══════════╪═══╪═══════════╪═══════════╪═══════════╪══════════╡\n",
      "│ 100300012 ┆ ENKESHAFI ┆ ARDALAN   ┆ null      ┆ … ┆ null      ┆ 154       ┆ 364       ┆ 2.0239   │\n",
      "│ 6         ┆           ┆           ┆           ┆   ┆           ┆           ┆           ┆          │\n",
      "│ 100300013 ┆ CIBULL    ┆ THOMAS    ┆ L         ┆ … ┆ 104       ┆ 193       ┆ 3810      ┆ 1.0925   │\n",
      "│ 4         ┆           ┆           ┆           ┆   ┆           ┆           ┆           ┆          │\n",
      "│ 100300014 ┆ KHALIL    ┆ RASHID    ┆ null      ┆ … ┆ null      ┆ 92        ┆ 116       ┆ 1.5809   │\n",
      "│ 2         ┆           ┆           ┆           ┆   ┆           ┆           ┆           ┆          │\n",
      "│ 100300040 ┆ GIRARDI   ┆ DAVID     ┆ J         ┆ … ┆ null      ┆ 136       ┆ 265       ┆ 2.0      │\n",
      "│ 7         ┆           ┆           ┆           ┆   ┆           ┆           ┆           ┆          │\n",
      "│ 100300042 ┆ VELOTTA   ┆ JENNIFER  ┆ A         ┆ … ┆ null      ┆ 20        ┆ 62        ┆ 0.954    │\n",
      "│ 3         ┆           ┆           ┆           ┆   ┆           ┆           ┆           ┆          │\n",
      "│ …         ┆ …         ┆ …         ┆ …         ┆ … ┆ …         ┆ …         ┆ …         ┆ …        │\n",
      "│ 199299956 ┆ YUEN      ┆ JENNY     ┆ F         ┆ … ┆ null      ┆ null      ┆ null      ┆ 1.0262   │\n",
      "│ 9         ┆           ┆           ┆           ┆   ┆           ┆           ┆           ┆          │\n",
      "│ 199299975 ┆ SORIANO   ┆ DINO      ┆ V         ┆ … ┆ null      ┆ null      ┆ null      ┆ 0.8391   │\n",
      "│ 9         ┆           ┆           ┆           ┆   ┆           ┆           ┆           ┆          │\n",
      "│ 199299977 ┆ SPINE     ┆ null      ┆ null      ┆ … ┆ null      ┆ 11        ┆ 110       ┆ 0.8674   │\n",
      "│ 5         ┆ SURGERY   ┆           ┆           ┆   ┆           ┆           ┆           ┆          │\n",
      "│           ┆ CENTER OF ┆           ┆           ┆   ┆           ┆           ┆           ┆          │\n",
      "│           ┆ EUGENE…   ┆           ┆           ┆   ┆           ┆           ┆           ┆          │\n",
      "│ 199299982 ┆ DESCHENES ┆ GEOFFREY  ┆ R         ┆ … ┆ null      ┆ 50        ┆ 504       ┆ 1.1033   │\n",
      "│ 5         ┆           ┆           ┆           ┆   ┆           ┆           ┆           ┆          │\n",
      "│ 199299987 ┆ JOFFE     ┆ GABRIELLA ┆ null      ┆ … ┆ null      ┆ 95        ┆ 348       ┆ 2.6029   │\n",
      "│ 4         ┆           ┆           ┆           ┆   ┆           ┆           ┆           ┆          │\n",
      "└───────────┴───────────┴───────────┴───────────┴───┴───────────┴───────────┴───────────┴──────────┘\n"
     ]
    }
   ],
   "source": [
    "print(df)"
   ]
  },
  {
   "cell_type": "code",
   "execution_count": null,
   "metadata": {},
   "outputs": [],
   "source": []
  }
 ],
 "metadata": {
  "kernelspec": {
   "display_name": "ds4b_301p",
   "language": "python",
   "name": "python3"
  },
  "language_info": {
   "codemirror_mode": {
    "name": "ipython",
    "version": 3
   },
   "file_extension": ".py",
   "mimetype": "text/x-python",
   "name": "python",
   "nbconvert_exporter": "python",
   "pygments_lexer": "ipython3",
   "version": "3.10.14"
  }
 },
 "nbformat": 4,
 "nbformat_minor": 2
}
